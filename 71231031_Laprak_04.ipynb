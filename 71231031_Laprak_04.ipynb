{
 "cells": [
  {
   "cell_type": "code",
   "execution_count": 4,
   "metadata": {},
   "outputs": [
    {
     "name": "stdout",
     "output_type": "stream",
     "text": [
      "True\n",
      "False\n",
      "False\n"
     ]
    }
   ],
   "source": [
    "#soal 4-1\n",
    "def cek_angka(a, b, c):\n",
    "   if a != b and a != c and b != c:\n",
    "       if b + c == a or b == c + a or c == b + a:\n",
    "           return True\n",
    "   return False\n",
    "\n",
    "#test case\n",
    "print(cek_angka(9,3,6))\n",
    "print(cek_angka(11,11,11))\n",
    "print(cek_angka(20,10,10))"
   ]
  },
  {
   "cell_type": "code",
   "execution_count": 4,
   "metadata": {},
   "outputs": [
    {
     "name": "stdout",
     "output_type": "stream",
     "text": [
      "True\n",
      "True\n",
      "False\n",
      "True\n",
      "False\n"
     ]
    }
   ],
   "source": [
    "#soal 4-2\n",
    "def digit_kanan (a, b, c):\n",
    "    digit_a = a % 10\n",
    "    digit_b = b % 10\n",
    "    digit_c = c % 10\n",
    "    \n",
    "    if digit_a == digit_b or digit_b == digit_c or digit_a == digit_c:\n",
    "        return True\n",
    "    else:\n",
    "        return False\n",
    "\n",
    "#test case\n",
    "print(digit_kanan(30, 20, 18))\n",
    "print(digit_kanan(145, 5, 100))\n",
    "print(digit_kanan(71, 187, 18))\n",
    "print(digit_kanan(1024, 14, 94))\n",
    "print(digit_kanan(53, 8900, 658))"
   ]
  },
  {
   "cell_type": "code",
   "execution_count": 5,
   "metadata": {},
   "outputs": [
    {
     "name": "stdout",
     "output_type": "stream",
     "text": [
      "212.0\n",
      "64.0\n",
      "32.0\n"
     ]
    }
   ],
   "source": [
    "#soal 4-3\n",
    "#Celcius ke Fahrenheit\n",
    "celsius_fahrenheit = lambda c: (9/5)*c + 32\n",
    "\n",
    "#Celcius ke Reamur\n",
    "celsius_reamur = lambda c: 0.8*c\n",
    "\n",
    "#test case\n",
    "print(celsius_fahrenheit(100))\n",
    "print(celsius_reamur(80))\n",
    "print(celsius_fahrenheit(0))"
   ]
  }
 ],
 "metadata": {
  "kernelspec": {
   "display_name": "Python 3",
   "language": "python",
   "name": "python3"
  },
  "language_info": {
   "codemirror_mode": {
    "name": "ipython",
    "version": 3
   },
   "file_extension": ".py",
   "mimetype": "text/x-python",
   "name": "python",
   "nbconvert_exporter": "python",
   "pygments_lexer": "ipython3",
   "version": "3.12.0"
  }
 },
 "nbformat": 4,
 "nbformat_minor": 2
}
